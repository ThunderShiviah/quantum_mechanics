{
 "metadata": {
  "name": "",
  "signature": "sha256:29c96827c5cfcc2fae0adcb4fffbd6c8eb157c201cfffba17480918621bd401b"
 },
 "nbformat": 3,
 "nbformat_minor": 0,
 "worksheets": [
  {
   "cells": [
    {
     "cell_type": "markdown",
     "metadata": {},
     "source": [
      "\n",
      "**1.** Suppose electrons were spin-3/2 particles, instead of spin-1/2. Describe the ground state of atomic element number 11: give both energy levels and the spectroscopic notation. Explain which of Hund's rules you used (if any).\n",
      "\n",
      "\n",
      "**2.** When going from V to Cr in the periodic system of elements, the\n",
      "electron configuration goes from\n",
      "(Ar)(4s)$^2$(3d)$^3$ to\n",
      "(Ar)(4s)(3d)$^5$. Could you find an explanation for this\n",
      "odd step?\n",
      "\n",
      "Let's start with the electron configuration of V, (Ar)(4s)$^2$(3d)$^3$, and think about where we could add an electron. The only place it seems like we could add it is to the $3d$ orbital to form (Ar)(4s)$^2$(3d)$^4$. What would the 3d orbital look like?\n",
      "\n",
      "According to Hund's first rule, we have that the electrons tend to singly fill all the orbitals of the subshell before double occupation occurs. The reason for this (from wiki) is that singly occupied subshells tend to be shielded less effectively than doubly occupied subshells and therefore experience a greater nucl$ear charge. As a result, the singly occupied subshells tend to be closer to the nucleus and thus in a lower energy state. Another way we could justify the electrons spreading out rather than clumping together is that by spreading out, the electrons have greater multiplicity and hence greater entropy. \n",
      "\n",
      "So now we know why the electrons in in the $3d$ orbital would tend to spread out in the 3d orbital rather than doubly occupy a subshell. Hence our $3d$ orbital looks like this:\n",
      "\n",
      "$$\n",
      "4s: \\underline{\\uparrow\\downarrow} \\\\\n",
      "3d: \\underline{\\uparrow }\\underline{\\uparrow }\\underline{\\uparrow }\\underline{\\uparrow }\\underline{ }\n",
      "$$\n",
      "\n",
      "But we actually have another possibility, one of the electrons from $4s$ could hop to the $3d$ orbital:\n",
      "\n",
      "$$\n",
      "4s: \\underline{\\uparrow } \\\\\n",
      "3d: \\underline{\\uparrow }\\underline{\\uparrow }\\underline{\\uparrow }\\underline{\\uparrow }\\underline{\\uparrow }\n",
      "$$\n",
      "\n",
      "Why would the electron jump from the 4s to the 3d? Well we know from my HW2 problem discussing copper that the 4s experiences much more shielding than the 3d. Hence the electron in the 4s experiences a much weaker effective nuclear charge than if it was to occupy 3d. Meanwhile 3d, in having an almost singly filled subshell, is experiencing a much stronger effective nuclear charge and therefore is much more electronegative. By having the 4s electron instead be in the 3d we also find an increase in total multiplicity of the system (and thus higher entropy) as well.\n",
      "\n",
      "Thus we see that having the 4s electron jump down to the 3d orbital creates both a more energetically and entropically favorable system.\n",
      "\n",
      "Note: I drew my singly distributed arrows up rather than in a mixed state because all parallel arrows leads to greater multiplicity and is thus more favorable by Hund's rule of maximum multiplicity.\n",
      "\n",
      "**3.** Which of the following are impossible states and why?\n",
      "\n",
      "$$\n",
      "^3S_1, ^4P_{3/2}, ^2D_{1/2}, ^3P_0, ^5P_{4}. \\\\\n",
      "^3S_1 \\\\\n",
      "s = 1 \\\\\n",
      "l = 0 \\\\\n",
      "s + l = 1 \\\\\n",
      "^4P_{3/2} \\\\ \n",
      "s = 3/2 \\\\\n",
      "l = -1,0,1 \\\\\n",
      "s + l = 3/2 \\\\\n",
      "^3P_0 \\\\\n",
      "s = 1 \\\\\n",
      "l = -1,0,1 \\\\\n",
      "s + l = 0 \\\\\n",
      "^5P_{4} \\\\\n",
      "s = 5 \\\\\n",
      "l = -1, 0, 1 \\\\\n",
      "s + l = 4 \\\\\n",
      "$$\n",
      "\n",
      "**4.**\n",
      " Calculate the Fermi energy $E_F$ and the total energy $E_{tot}$ for a 2-D free electron gas consisting of $N$  noninteracting electrons confined to an area $A$.\n",
      "\n",
      "\n"
     ]
    },
    {
     "cell_type": "code",
     "collapsed": false,
     "input": [],
     "language": "python",
     "metadata": {},
     "outputs": []
    }
   ],
   "metadata": {}
  }
 ]
}