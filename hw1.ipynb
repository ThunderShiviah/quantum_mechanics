{
 "metadata": {
  "name": "",
  "signature": "sha256:ee95e065e055eec01209fc5fb6c3614cdbe0957049ab49a8c79c459f8ef7a865"
 },
 "nbformat": 3,
 "nbformat_minor": 0,
 "worksheets": [
  {
   "cells": [
    {
     "cell_type": "markdown",
     "metadata": {},
     "source": [
      "### Approach\n",
      "First off, we would expect that our only steady state solutions would be if our spin is lying parallel or anti-parallel to our magnetic field. Hence, given that our spin is perpendicular in this case, our spin should not be steady state. Finally, since the magnetic field produces a torque on our spin, $\\mu \\times B$, where $\\mu = \\gamma S$, we would expect our final answer to be that our spin state rotates around the magnetic field (a la the right hand rule), namely $|\\mu||B|sin(\\theta)$, where $\\theta$ is the angle between the direction of spin and the magnetic field (in this case $\\theta = \\pi$)."
     ]
    },
    {
     "cell_type": "markdown",
     "metadata": {},
     "source": [
      "We start by solving the time independent form of the hamiltonian:"
     ]
    },
    {
     "cell_type": "code",
     "collapsed": false,
     "input": [
      "%%latex\n",
      "\\begin{aligned}\n",
      "\\hat H \\psi= E \\psi\n",
      "\\\\\n",
      "\\hat H = -\\gamma \\vec B \\cdot \\hat S = -\\gamma B_0 S_x = -\\frac{\\gamma B_0 \\hbar}{2}\n",
      "\\begin{pmatrix}\n",
      "0&1\\\\ 1&0\n",
      "\\end{pmatrix} \n",
      "\n",
      "\\end{aligned}"
     ],
     "language": "python",
     "metadata": {},
     "outputs": [
      {
       "latex": [
        "\\begin{aligned}\n",
        "\\hat H \\psi= E \\psi\n",
        "\\\\\n",
        "\\hat H = -\\gamma \\vec B \\cdot \\hat S = -\\gamma B_0 S_x = -\\frac{\\gamma B_0 \\hbar}{2}\n",
        "\\begin{pmatrix}\n",
        "0&1\\\\ 1&0\n",
        "\\end{pmatrix} \n",
        "\n",
        "\\end{aligned}"
       ],
       "metadata": {},
       "output_type": "display_data",
       "text": [
        "<IPython.core.display.Latex at 0x2f95090>"
       ]
      }
     ],
     "prompt_number": 28
    },
    {
     "cell_type": "markdown",
     "metadata": {},
     "source": [
      "The eigenstates of H are the same as those of $S_x$:"
     ]
    },
    {
     "cell_type": "code",
     "collapsed": false,
     "input": [
      "%%latex\n",
      "\n",
      "\\[  \\left\\{ \n",
      "  \\begin{array}{l l}\n",
      "    \\chi^{(x)}_+ & \\quad \\text{with energy $E_+ = -\\gamma B_0 \\hbar/2$}\\\\\n",
      "    \\chi^{(x)}_{\\_} & \\quad \\text{with energy $E_+ = +\\gamma B_0 \\hbar/2$}\n",
      "  \\end{array} \\right.\\]\n"
     ],
     "language": "python",
     "metadata": {},
     "outputs": [
      {
       "latex": [
        "\n",
        "\\[  \\left\\{ \n",
        "  \\begin{array}{l l}\n",
        "    \\chi^{(x)}_+ & \\quad \\text{with energy $E_+ = -\\gamma B_0 \\hbar/2$}\\\\\n",
        "    \\chi^{(x)}_{\\_} & \\quad \\text{with energy $E_+ = +\\gamma B_0 \\hbar/2$}\n",
        "  \\end{array} \\right.\\]"
       ],
       "metadata": {},
       "output_type": "display_data",
       "text": [
        "<IPython.core.display.Latex at 0x2f95150>"
       ]
      }
     ],
     "prompt_number": 33
    },
    {
     "cell_type": "markdown",
     "metadata": {},
     "source": [
      "### Thoughts\n",
      "\n",
      "My mental model so far is that if my spin is perpendicular to the field, then the spin should rotate continuously around the field except that if will take $4\\pi$ to rotate completely because it's a spinor ($2\\pi$ will pick up a minus sign) Note: I confirmed this is true by applying the rotation operator around the z axis and set the rotation to $2\\pi$. Furthermore, I should be able to start with the case where the magnetic field is pointing along x and the spin is pointing along z (the set up to this problem). Then I apply the following transformations:\n",
      "\n",
      "1. Rotation of $-pi/2$ along y axis.\n",
      "2. Reflection along xy plane.\n",
      "\n",
      "After applying the transformations, my problem should be transformed into the configuration of Griffiths example 4.3 with the uniform magnetic field pointing in the z-direction and the spin pointing along the x-direction.\n",
      "\n",
      "Furthermore, the transformation should be bi-directional. \n",
      "\n",
      "One possible reason why this idea might not work is that we are dealing with a spinor instead of a vector so it might not transform in a standard way.\n"
     ]
    },
    {
     "cell_type": "markdown",
     "metadata": {},
     "source": [
      "**(b)** If the magnetic field is oscillating in time, and is directed along the y direction:\n",
      "$\\vec B = B_0 sin(\\omega t)\\vec e_y$, how does the spin evolve as a function of time?\n",
      "\n",
      "### Remark\n",
      "This problem is very similar to problem 4.33 so I should first start by doing that. "
     ]
    },
    {
     "cell_type": "code",
     "collapsed": false,
     "input": [],
     "language": "python",
     "metadata": {},
     "outputs": []
    }
   ],
   "metadata": {}
  }
 ]
}