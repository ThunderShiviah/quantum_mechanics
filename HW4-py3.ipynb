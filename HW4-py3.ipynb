{
 "cells": [
  {
   "cell_type": "markdown",
   "metadata": {},
   "source": [
    "####1. Suppose we have four noninteracting particles in a 1-D harmonic oscillator with frequency $\\omega$, and the total energy is given as $E=5\\hbar \\omega$.\n",
    "\n",
    "\n",
    "\n",
    "####(a) How many different  states are possible for distinguishable particles? List them by writing down just a single example of those states with multiple permutations, and then saying how many different permutations there are."
   ]
  },
  {
   "cell_type": "markdown",
   "metadata": {},
   "source": [
    "Energy in a 1-D harmonic oscillator is given by $(n + \\frac{1}{2})\\hbar\\omega$. Since we have four particles, we are looking for all the ways we can get four integers to equal 10 (since $E = 5\\hbar\\omega = \\frac{10}{2}\\hbar\\omega$).\n",
    "\n"
   ]
  },
  {
   "cell_type": "code",
   "execution_count": 97,
   "metadata": {
    "collapsed": false
   },
   "outputs": [
    {
     "name": "stdout",
     "output_type": "stream",
     "text": [
      "[(1, 1, 1, 7), (1, 1, 2, 6), (1, 1, 3, 5), (1, 1, 4, 4), (1, 1, 5, 3), (1, 1, 6, 2), (1, 1, 7, 1), (1, 2, 1, 6), (1, 2, 2, 5), (1, 2, 3, 4), (1, 2, 4, 3), (1, 2, 5, 2), (1, 2, 6, 1), (1, 3, 1, 5), (1, 3, 2, 4), (1, 3, 3, 3), (1, 3, 4, 2), (1, 3, 5, 1), (1, 4, 1, 4), (1, 4, 2, 3), (1, 4, 3, 2), (1, 4, 4, 1), (1, 5, 1, 3), (1, 5, 2, 2), (1, 5, 3, 1), (1, 6, 1, 2), (1, 6, 2, 1), (1, 7, 1, 1), (2, 1, 1, 6), (2, 1, 2, 5), (2, 1, 3, 4), (2, 1, 4, 3), (2, 1, 5, 2), (2, 1, 6, 1), (2, 2, 1, 5), (2, 2, 2, 4), (2, 2, 3, 3), (2, 2, 4, 2), (2, 2, 5, 1), (2, 3, 1, 4), (2, 3, 2, 3), (2, 3, 3, 2), (2, 3, 4, 1), (2, 4, 1, 3), (2, 4, 2, 2), (2, 4, 3, 1), (2, 5, 1, 2), (2, 5, 2, 1), (2, 6, 1, 1), (3, 1, 1, 5), (3, 1, 2, 4), (3, 1, 3, 3), (3, 1, 4, 2), (3, 1, 5, 1), (3, 2, 1, 4), (3, 2, 2, 3), (3, 2, 3, 2), (3, 2, 4, 1), (3, 3, 1, 3), (3, 3, 2, 2), (3, 3, 3, 1), (3, 4, 1, 2), (3, 4, 2, 1), (3, 5, 1, 1), (4, 1, 1, 4), (4, 1, 2, 3), (4, 1, 3, 2), (4, 1, 4, 1), (4, 2, 1, 3), (4, 2, 2, 2), (4, 2, 3, 1), (4, 3, 1, 2), (4, 3, 2, 1), (4, 4, 1, 1), (5, 1, 1, 3), (5, 1, 2, 2), (5, 1, 3, 1), (5, 2, 1, 2), (5, 2, 2, 1), (5, 3, 1, 1), (6, 1, 1, 2), (6, 1, 2, 1), (6, 2, 1, 1), (7, 1, 1, 1)]\n",
      "List has 84 elements\n"
     ]
    }
   ],
   "source": [
    "\n",
    "\"\"\"Create a list of all four non-zero integer tuples that sum to 10.\"\"\"\n",
    "total_combinations = [(a,b,c,d) for a in range(1,10) for b in range(1,10) for c in range(1,10) for d in range(1,10) if a+b+c+d == 10]\n",
    "\n",
    "print(total_combinations)\n",
    "\n",
    "\"\"\"Check how many elements are in our list.\"\"\"\n",
    "print(\"List has \"+ str(len(total_combinations)) + \" elements\")\n",
    "\n"
   ]
  },
  {
   "cell_type": "markdown",
   "metadata": {},
   "source": [
    "That's nice, but I want to only list unique combinations and not permutations (for example, the above solution has (1,1,1,7), (7,1,1,1), (1,7,1,1), and (1,1,7,1). \n",
    "\n",
    "However, I _would_ like to keep track of how many ways I could permute a given combination since we're dealing with distinguishable particles (if they were indistinguishable we wouldn't care), so instead I would like to havehave 4 permutations of (1,7,7,7)). To do that, I'll first sort each tuple in my list and then call python's Counter method which will return the number of occurences of each unique element in the list."
   ]
  },
  {
   "cell_type": "code",
   "execution_count": 111,
   "metadata": {
    "collapsed": false
   },
   "outputs": [
    {
     "name": "stdout",
     "output_type": "stream",
     "text": [
      "(1, 1, 1, 7) has 4 permutations.\n",
      "(1, 2, 3, 4) has 24 permutations.\n",
      "(2, 2, 3, 3) has 6 permutations.\n",
      "(1, 2, 2, 5) has 12 permutations.\n",
      "(1, 1, 4, 4) has 6 permutations.\n",
      "(2, 2, 2, 4) has 4 permutations.\n",
      "(1, 1, 3, 5) has 12 permutations.\n",
      "(1, 1, 2, 6) has 12 permutations.\n",
      "(1, 3, 3, 3) has 4 permutations.\n",
      "\n",
      "There are a total of 84 states.\n"
     ]
    }
   ],
   "source": [
    "from collections import Counter\n",
    "\n",
    "sorted_list = [tuple(sorted(x)) for x in total_combinations] #creates a list of sorted tuples from our total_combination.\n",
    "#print(sorted_list)\n",
    "a = dict(Counter(sorted_list)) #returns a dictionary of sorted values and the number of occurences.\n",
    "for key, value in a.items():\n",
    "    print(key,\"has \"+str(value)+\" permutations.\")\n",
    "    \n",
    "print() #prints an empty line.\n",
    "\n",
    "print(\"There are a total of \"+str(sum(a.values()))+\" states.\")"
   ]
  },
  {
   "cell_type": "markdown",
   "metadata": {},
   "source": [
    "We can see that the states with 4 permutations have one unique element. States with 6 permutations have two sets of identical elements. States with 12 permutations have one set of two identical elements, and states with 24 permutations have four unique elements. In each case, we start with $4! = 24$ permutations, and then divide by the number of available symmetries on our state (where a symmetry in this case is defined as a permutation identical to the identity mapping, i.e. exchanging the first and third elements in the tuple (1,1,1,3)).\n",
    "\n",
    "I'll prove this if I have time.\n"
   ]
  },
  {
   "cell_type": "markdown",
   "metadata": {},
   "source": [
    "####(b) How many different states exist for identical fermions in a symmetric spin state? List them using your list from part (a)."
   ]
  },
  {
   "cell_type": "markdown",
   "metadata": {},
   "source": [
    "In the case of identical fermions, we no longer differentiate between permutations since they're identical. However, we now need to worry about the Pauli exclusion principle. Since the fermions are in a symmetric spin state, we can have only one fermion per energy level (if they were anti-symmetric with respect to spin, we could have two). Hence we must exclude any state that has non-unique elements (or to put it another way, any state with a non-trivial symmetry).\n",
    "\n",
    "This leaves only the state (1,2,3,4)."
   ]
  },
  {
   "cell_type": "markdown",
   "metadata": {},
   "source": [
    "####(c) How many different states exist for identical bosons in a symmetric spin state? List them using your list from part (a)."
   ]
  },
  {
   "cell_type": "markdown",
   "metadata": {},
   "source": [
    "In this case, we once again disregard the number of permutations because the bosons are identical. Except now, unlike the fermions, we don't have to worry about putting multiple bosons in the same state. Hence we will have only nine total states."
   ]
  },
  {
   "cell_type": "code",
   "execution_count": 115,
   "metadata": {
    "collapsed": false
   },
   "outputs": [
    {
     "name": "stdout",
     "output_type": "stream",
     "text": [
      "(1, 1, 1, 7)\n",
      "(1, 2, 3, 4)\n",
      "(2, 2, 3, 3)\n",
      "(1, 2, 2, 5)\n",
      "(1, 1, 4, 4)\n",
      "(2, 2, 2, 4)\n",
      "(1, 1, 3, 5)\n",
      "(1, 1, 2, 6)\n",
      "(1, 3, 3, 3)\n",
      "\n",
      "There are a total of 9 states.\n"
     ]
    }
   ],
   "source": [
    "for key in a.keys():\n",
    "    print(key)\n",
    "    \n",
    "print() #prints an empty line.\n",
    "\n",
    "print(\"There are a total of \"+str(len(a))+\" states.\")"
   ]
  },
  {
   "cell_type": "markdown",
   "metadata": {},
   "source": [
    "####(d) Suppose we measure the energy of one of the bosons. What are the possible outcomes and with what probabilities will we find them? "
   ]
  },
  {
   "cell_type": "markdown",
   "metadata": {},
   "source": [
    "To get the the probabilities of the energy of the boson we need to look at ratio of the degeneracy of each state and the sum of the total number of states.\n",
    "\n",
    "For example, we see from part (b) that of the nine total states, a photon is in the ground state, $E_1$, (represented by a 1) twelve times, where as a photon is in $E_7$ only once. Hence we would expect that it would be more probable to find a photon in the ground state (which agrees with our intuition)."
   ]
  },
  {
   "cell_type": "code",
   "execution_count": 163,
   "metadata": {
    "collapsed": false
   },
   "outputs": [
    {
     "name": "stdout",
     "output_type": "stream",
     "text": [
      "{1: 12, 2: 9, 3: 7, 4: 4, 5: 2, 6: 1, 7: 1}\n",
      "36\n",
      "Available energy levels for a single photon and the associated probability of the photon being found in that energy level:\n",
      "1 1/3\n",
      "2 1/4\n",
      "3 7/36\n",
      "4 1/9\n",
      "5 1/18\n",
      "6 1/36\n",
      "7 1/36\n",
      "\n",
      "Sum of all probabilities = 1\n"
     ]
    }
   ],
   "source": [
    "\n",
    "\n",
    "#import matplotlib.pyplot as plt\n",
    "from itertools import chain \n",
    "from fractions import Fraction\n",
    "\n",
    "single_photon_states = [elem[:] for elem in a.keys()]\n",
    "\n",
    "single_photon_dict = dict(Counter(list(chain.from_iterable(single_photon_states))))\n",
    "print(single_photon_dict) #Prints the Energy state and associated frequency.\n",
    "\n",
    "print(sum(single_photon_dict.values())) #Prints the sum of the degeneracies of each state.\n",
    "\n",
    "print(\"Available energy levels for a single photon and the associated probability of the photon being found in that energy level:\")\n",
    "for k,v in single_photon_dict.items():\n",
    "    print(k, Fraction(v,36))\n",
    "\n",
    "print()\n",
    "\n",
    "print(\"Sum of all probabilities = \" + str(Fraction(sum(single_photon_dict.values()),36)))\n",
    "\n",
    "################### Generate graph #############################\n",
    "#D = single_photon_dict\n",
    "\n",
    "#plt.bar(range(len(D)), D.values(), align='center')\n",
    "#plt.xticks(range(len(D)), D.keys())\n",
    "\n"
   ]
  },
  {
   "cell_type": "markdown",
   "metadata": {},
   "source": [
    "####2. Consider a potential with just three different energy eigenstates, one ground state $|g\\rangle$ and two degenerate excited states $|e\\rangle$ and $|e'\\rangle$, with energies $E_g=0$ and $E_e>0$.\n",
    "\n",
    "####(a)  Suppose we put a macroscopic number ($N$, with $N\\approx 10^{23}$) of distinguishable noninteracting particles in this potential, and suppose the temperature is $T$. How many particles end up in the ground state, most likely? What is the value  of $\\exp(-\\mu/k_BT)$  ($\\mu$ is the chemical potential at temperature $T$) ?"
   ]
  },
  {
   "cell_type": "markdown",
   "metadata": {},
   "source": []
  },
  {
   "cell_type": "markdown",
   "metadata": {},
   "source": [
    "####(b)  Same questions, but for identical noninteracting bosons."
   ]
  },
  {
   "cell_type": "markdown",
   "metadata": {},
   "source": [
    "####(c)  _Sketch_, even if you didn't get parts (a) and (b), the probabilities to find a given particle in the ground state as functions of $E_e/kT$, for identical bosons and for distinguishable particles: argue what the probabilities should be for $E_e/kT\\rightarrow\\infty$ and for $E_e/kT\\rightarrow 0$."
   ]
  },
  {
   "cell_type": "markdown",
   "metadata": {},
   "source": [
    "####(d)  Why do I not ask the same questions for identical fermions?"
   ]
  },
  {
   "cell_type": "code",
   "execution_count": null,
   "metadata": {
    "collapsed": false
   },
   "outputs": [],
   "source": []
  }
 ],
 "metadata": {
  "language_info": {
   "codemirror_mode": {
    "name": "ipython",
    "version": 3
   },
   "file_extension": ".py",
   "mimetype": "text/x-python",
   "name": "python",
   "nbconvert_exporter": "python",
   "pygments_lexer": "ipython3",
   "version": "3.3.1"
  }
 },
 "nbformat": 4,
 "nbformat_minor": 0
}
