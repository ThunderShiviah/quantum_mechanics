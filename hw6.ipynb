{
 "cells": [
  {
   "cell_type": "markdown",
   "metadata": {},
   "source": [
    "#### QM HW6\n",
    "#### Thunder Shiviah"
   ]
  },
  {
   "cell_type": "markdown",
   "metadata": {},
   "source": [
    "#### 1. Consider two distinguishable particles 1 and 2 with the same mass $m$ in the 1-D infinite well of size $L$.  For the unperturbed Hamiltonian we take *noninteracting* particles. The perturbation is an interaction of the form $H'=\\lambda\\delta(x_1-x_2)$, in terms of the positions of the two particles.\n",
    "\n",
    "(a)  Calculate the energy shift of the ground state to first order."
   ]
  },
  {
   "cell_type": "markdown",
   "metadata": {},
   "source": [
    "Since our particles are distinguishable and initially non-interacting, the unperturbed wavefunction will be the product of the two single particle wavefunctions:\n",
    "\n",
    "$$\n",
    "\\psi^0_n(x_1,x_2) = \\psi^0_{n_1}(x_1)\\psi^0_{n_2}(x_2) = \\frac{2}{L}sin(\\frac{n_1\\pi}{L}x_1)sin(\\frac{n_2\\pi}{L}x_2)\n",
    "$$\n",
    "\n",
    "Our energy will be the sum of the individual energies:\n",
    "\n",
    "$$\n",
    "E_{n_1n_2} = (n_1^2 + n_2^2)K   \n",
    "$$\n",
    "\n",
    "where  $K \\equiv \\pi^2\\hbar^2/2mL^2$.\n",
    "\n",
    "The ground state is\n",
    "\n",
    "$$\n",
    "\\psi_{11} = \\frac{2}{L}sin(\\pi x_1/L)sin(\\pi x_2/L), \\ \\ \\ E_{11} = 2K;\n",
    "$$\n",
    "\n",
    "the first excited state is doubly degenerate:\n",
    "\n",
    "$$\n",
    "\\psi_{12} = \\frac{2}{L}sin(\\pi x_1/L)sin(2\\pi x_2/L), \\ \\ \\ E_{12} = 5K;\n",
    "$$\n",
    "\n",
    "$$\n",
    "\\psi_{21} = \\frac{2}{L}sin(2\\pi x_1/L)sin(\\pi x_2/L), \\ \\ \\ E_{21} = 5K;\n",
    "$$\n",
    "\n",
    "To calculate the first order energy shift of the ground state, we recall that\n",
    "\n",
    "$$\n",
    "E_n^1 = \\langle\\psi_n^0|H'|\\psi_n^0\\rangle\n",
    "$$\n",
    "\n",
    "$$\n",
    "= \\langle \\psi_{11}^0 | \\lambda\\delta(x_1-x_2) | \\psi_{11}^0 \\rangle\n",
    "$$\n",
    "\n",
    "$$\n",
    "= \\lambda \\int_0^L \\int_0^L \\left(\\frac{2}{L}sin(\\pi x_1/L)sin(\\pi x_2/L) \\right)^{\\ast} \\delta(x_1-x_2) \\left(\\frac{2}{L}sin(\\pi x_1/L)sin(\\pi x_2/L)\\right) dx_1 dx_2\n",
    "$$\n"
   ]
  },
  {
   "cell_type": "markdown",
   "metadata": {},
   "source": [
    "The $\\delta(x_1 - x_2)$ reduces our expression to a single integral over the state where $x_1 = x_2$:\n",
    "\n",
    "$$\n",
    " = \\lambda \\frac{4}{L^2} \\int_0^L sin^4(\\pi x/L) dx\n",
    "$$\n",
    "\n",
    "To solve, observe that\n",
    "\n",
    "$$\n",
    "\\int sin^n(ax) dx = -\\frac{1}{na}sin^{n-1}(ax)cos(ax) + \\frac{n-1}{n}\\int sin^{n-2}(ax) dx\n",
    "$$\n",
    "\n",
    "Hence\n",
    "\n",
    "$$\n",
    "\\lambda \\frac{4}{L^2} \\int_0^L sin^4(\\pi x/L) dx = \\lambda \\frac{4}{L^2}  \\left ( -\\frac{L}{4\\pi}sin^{3}(\\pi x/L)cos(\\pi x/L) \\Big |^L_0 + \\frac{3}{4}\\int^L_0  sin^{2}(\\pi x/L) dx \\right )\n",
    "$$"
   ]
  },
  {
   "cell_type": "markdown",
   "metadata": {},
   "source": [
    "$$\n",
    "= \\lambda \\frac{4}{L^2} \\frac{3}{8}L\n",
    "$$\n",
    "\n",
    "$$\n",
    "\\implies E_n^1 = \\frac{3\\lambda}{2L}\n",
    "$$\n",
    "\n",
    "Thus our total energy will be \n",
    "\n",
    "$$\n",
    "E = E_{11}^0 + E_{11}^1 = 2K + \\frac{3\\lambda}{2L}\n",
    "$$"
   ]
  },
  {
   "cell_type": "markdown",
   "metadata": {},
   "source": [
    "(b)  Calculate the energy shifts of the first excited states (two degenerate ones) to first order.\n",
    "What are the ''good'' states here?"
   ]
  },
  {
   "cell_type": "markdown",
   "metadata": {},
   "source": [
    "From part (a) we have the two degenerate first excited states:\n",
    "\n",
    "$$\n",
    "\\psi_{12} = \\frac{2}{L}sin(\\pi x_1/L)sin(2\\pi x_2/L), \\ \\ \\ E_{12} = 5K;\n",
    "$$\n",
    "\n",
    "$$\n",
    "\\psi_{21} = \\frac{2}{L}sin(2\\pi x_1/L)sin(\\pi x_2/L), \\ \\ \\ E_{21} = 5K.\n",
    "$$"
   ]
  },
  {
   "cell_type": "markdown",
   "metadata": {},
   "source": [
    "To calculate the first order energy shift, we need to calculate the matrix, $W$, where\n",
    "\n",
    "$$\n",
    "W_{ij} = \\langle \\psi^0_i | H' |  \\psi^0_j \\rangle.\n",
    "$$\n",
    "\n",
    "Since $H' = \\lambda \\delta(x_1 - x_2)$, $W_{ij} = W_{ii}$, hence we only need to calculate\n",
    "\n",
    "$$\n",
    "W_{12,12} = \\langle \\psi^0_{12} | H' |  \\psi^0_{12} \\rangle\n",
    "$$\n",
    "\n",
    "$$\n",
    "= \\frac{4\\lambda}{L^2} \\int^L_0 sin^2(\\pi x/L)sin^2(2\\pi x/L)dx\n",
    "$$\n",
    "\n",
    "$$\n",
    "= \\frac{4\\lambda}{L^2} \\int^L_0 sin^4(\\pi x/L)cos^2(\\pi x/L)dx\n",
    "$$\n",
    "\n",
    "$$\n",
    "= \\frac{4\\lambda}{L^2} \\int^L_0 sin^4(\\pi x/L)(1 - sin^2(\\pi x/L))dx\n",
    "$$\n",
    "\n",
    "$$\n",
    "= \\frac{4\\lambda}{L^2} \\int^L_0 sin^4(\\pi x/L)- sin^6(\\pi x/L)dx\n",
    "$$\n",
    "\n",
    "Note that the cosine term came from the double angle formula and that my choice of $W_{12,12}$ was arbitrary (it could have been $W_{21,21}$).\n",
    "\n",
    "We know that $\\lambda \\frac{4}{L^2} \\int_0^L sin^4(\\pi x/L) dx = \\lambda \\frac{3}{2L}$ from part (a).\n",
    "\n",
    "Furthermore, we can use our general formula for powers of sine from part a to evaluate $sin^6(\\pi x/ L)$:\n",
    "\n",
    "$$\n",
    "\\int_0^L sin^6(\\pi x/L) dx = -\\frac{L}{6\\pi}sin^{5}(\\pi x/ L)cos(\\pi x/ L)\\Big |_0^L + \\frac{5}{6}\\int_0^L sin^{4}(\\pi x/L) dx\n",
    "$$"
   ]
  },
  {
   "cell_type": "markdown",
   "metadata": {
    "collapsed": true
   },
   "source": [
    "$$\n",
    "\\implies -\\lambda \\frac{4}{L^2} \\int_0^L sin^6(\\pi x/L) dx = -\\lambda\\frac{5}{6} \\frac{3}{2L}\n",
    "$$\n",
    "\n",
    "Hence,\n",
    "\n",
    "$$\n",
    "\\frac{4\\lambda}{L^2} \\int^L_0 sin^2(\\pi x/L)sin^2(2\\pi x/L)dx = \\lambda \\frac{3}{2L}-\\lambda\\frac{5}{6} \\frac{3}{2L}\n",
    "$$\n",
    "\n",
    "$$\n",
    "\\implies W_{ij} = \\frac{\\lambda}{4L}\n",
    "$$\n",
    "\n"
   ]
  },
  {
   "cell_type": "markdown",
   "metadata": {},
   "source": [
    "To get $E_{pm}^1$, we recall Griffiths equation 6.27:\n",
    "\n",
    "$$\n",
    "E_{pm}^1 = \\frac{1}{2}\\Big[W_{aa} + W_{bb} \\pm \\sqrt{(W_{aa} - W_{bb})^2 + 4|W_{ab}|^2}  \\Big]\n",
    "$$\n",
    "\n",
    "Observing that $W_{aa} = W_{bb} = W_{ab} = \\frac{\\lambda}{4L}$, our equation reduces to\n",
    "\n",
    "$$\n",
    "E^1_{+} = \\frac{\\lambda}{2L} \\\\\n",
    "E^1_{-} = 0\n",
    "$$\n",
    "\n",
    "To get the \"good\" states, we want to solve for the eigenvalues of our matrix $W$, \n",
    "$$\n",
    "W = \\frac{\\lambda}{2L} \\left( \\begin{array}{cc}\n",
    "1 & 1 \\\\\n",
    "1 & 1 \\end{array} \\right)\n",
    "$$\n",
    "\n",
    "which gives eigenstates of $\\left( \\begin{array}{c}\n",
    "1  \\\\\n",
    "1  \\end{array} \\right)$ and $\\left( \\begin{array}{c}\n",
    "1  \\\\\n",
    "-1  \\end{array} \\right)$ with corresponding eigenvalues of 2 and 0.\n",
    "\n",
    "Hence our good (normalized) eigenstates are \n",
    "\n",
    "$$\n",
    "\\psi_+ = \\frac{1}{\\sqrt{2}}(\\psi_{12} + \\psi_{21}) \\\\\n",
    "\\psi_- = \\frac{1}{\\sqrt{2}}(\\psi_{12} - \\psi_{21})\n",
    "$$"
   ]
  },
  {
   "cell_type": "markdown",
   "metadata": {},
   "source": [
    "#### 2. The following problem will mimic the discussion in the textbook about the Zeeman effect (or the hyperfine structure) where fine structure is taken into account as well, in the sense that *two* perturbations are added. Here the model is much simpler. \n",
    "\n",
    "Consider the 2D harmonic oscillator with frequency $\\omega$, and the 2 degenerate states with energy $2\\hbar\\omega$.\n",
    "\n",
    "(a)  Suppose we add a perturbation of the form\n",
    "$$\n",
    "H'=\\lambda xy.\n",
    "$$\n",
    "Calculate the first-order shifts. \n",
    "Which two states are shifted by these amounts? Call them $|+\\rangle$ and $|-\\rangle$. These two states are now nondegenerate thanks to $H'$."
   ]
  },
  {
   "cell_type": "markdown",
   "metadata": {},
   "source": [
    "The eigenstates to a 2D harmonic oscillator with frequency $\\omega$ are\n",
    "\n",
    "$$\n",
    "\\psi^0_{n_1,n_2}(x,y) = \\psi^0_{n_1}(x)\\psi^0_{n_2}(y)\n",
    "$$\n",
    "\n",
    "Energy is of the form\n",
    "\n",
    "$$\n",
    "E^0_{n_1,n_2} = (n_1 + n_2 + 1)\\hbar\\omega\n",
    "$$\n",
    "\n",
    "We have three states:\n",
    "\n",
    "One ground state ($n_1 = n_2 = 0$) with energy $E^0_{0} = \\hbar\\omega$ and two degenerate states with energy $E^0 = 2\\hbar\\omega$:\n",
    "\n",
    "$$\n",
    "\\psi^0_{10} = \\psi^0_{1}(x)\\psi^0_{0}(y)\n",
    "$$\n",
    "\n",
    "$$\n",
    "\\psi^0_{01} = \\psi^0_{0}(x)\\psi^0_{1}(y)\n",
    "$$"
   ]
  },
  {
   "cell_type": "markdown",
   "metadata": {
    "collapsed": true
   },
   "source": [
    "Since we have two degenerate states it would appear that we need to calculate the degenerate perturbation matrix. However, we can observe that when calculating the off diagonals of our matrix, our expectation value is separable: \n",
    "\n",
    "$$\n",
    "\\langle \\psi^0_{i} |\\lambda xy | \\psi^0_{j} \\rangle  = \\lambda \\langle \\psi^0_{i}(x)| x | \\psi^0_{j}(x) \\rangle\\langle \\psi^0_{i}(y)|y | \\psi^0_{j}(y) \\rangle\n",
    "$$\n",
    "\n",
    "If $i = j$ and our integral is separable, we automatically have zeros (since $\\langle x \\rangle = 0$ in a simple harmonic oscillator).\n",
    "If $i \\neq j$, then we can use ladder operators:\n",
    "\n",
    "$$\n",
    " \\langle \\psi^0_{i}(x)| x | \\psi^0_{j}(x) \\rangle =\n",
    "$$\n",
    "\n",
    "$$\n",
    "\\int (\\psi^0_{i})^{\\ast}\\sqrt{\\frac{\\hbar}{2m\\omega}}(a_+ + a_-)\\psi^0_{j}\n",
    "$$ \n",
    "\n",
    "$$\n",
    "= \\sqrt{\\frac{\\hbar}{2m\\omega}}\\int \\psi^0_{i} (\\sqrt{j + 1}\\psi^0_{j+1} + \\sqrt{j}\\psi^0_{j-1})\n",
    "$$"
   ]
  },
  {
   "cell_type": "markdown",
   "metadata": {},
   "source": [
    "$$\n",
    "= \\sqrt{\\frac{\\hbar}{2m\\omega}}(\\sqrt{j + 1}\\delta_{i,j+1} + \\sqrt{j}\\delta_{i,j-1})\n",
    "$$"
   ]
  },
  {
   "cell_type": "markdown",
   "metadata": {},
   "source": [
    "Our options for $i$ and $j$ are either $i = 0, j = 1$ or $j = 0, i = 1$. In the first case $\\sqrt{j + 1}\\delta_{i,j+1} = 0$ and $\\sqrt{j}\\delta_{i,j-1} = 1$. In the second case $\\sqrt{j + 1}\\delta_{i,j+1} = 1$ while $\\sqrt{j}\\delta_{i,j-1} = 0$. Thus in either case we get that \n",
    "\n",
    "$$\n",
    "\\langle \\psi^0_{i}(x)| x | \\psi^0_{j}(x) \\rangle = \\sqrt{\\frac{\\hbar}{2m\\omega}}\n",
    "$$\n",
    "\n",
    "(Note: I've abused notation by having the dirac functions out in the open; dirac functions live under the integral.)\n",
    "\n",
    "Hence, \n",
    "\n",
    "$$\n",
    "\\langle \\psi^0_{i} |\\lambda xy | \\psi^0_{j} \\rangle  = \\lambda\\frac{\\hbar}{2m\\omega}, i \\neq j.\n",
    "$$\n",
    "\n",
    "and \n",
    "\n",
    "$$\n",
    "W =  \\frac{\\lambda\\hbar}{2m\\omega} \\left( \\begin{array}{cc}\n",
    "0 & 1 \\\\\n",
    "1 & 0 \\end{array} \\right)\n",
    "$$\n"
   ]
  },
  {
   "cell_type": "markdown",
   "metadata": {},
   "source": [
    "$W$ has eigenvalues proportional to $-1,1,$ and $i$. We want our eigenvalues to correspond with energy so we will throw away $i$ as being unphysical. Hence we have remaining eigenvalues of $\\pm \\frac{\\lambda\\hbar}{2m\\omega}$ and associated eigenstates of $\\left( \\begin{array}{c}\n",
    "1  \\\\\n",
    "1  \\end{array} \\right)$ and $\\left( \\begin{array}{c}\n",
    "-1  \\\\\n",
    "1  \\end{array} \\right)$.\n",
    "\n",
    "Hence, our 'good' normalized eigenstates are\n",
    "$$\n",
    "\\psi_+ = \\frac{1}{\\sqrt{2}}(\\psi_{01} + \\psi_{10}) \\ \\ \\ E^1_+ = \\frac{\\lambda\\hbar}{2m\\omega}\\\\\n",
    "\\psi_- = \\frac{1}{\\sqrt{2}}(\\psi_{01} - \\psi_{10}) \\ \\ \\ E^1_- = -\\frac{\\lambda\\hbar}{2m\\omega}\n",
    "$$"
   ]
  },
  {
   "cell_type": "markdown",
   "metadata": {},
   "source": [
    "(b) Suppose we now add a second perturbation\n",
    "$$\n",
    "H''=\\mu x^2,\n",
    "$$\n",
    "with $\\mu\\ll \\lambda$.\n",
    "Calculate the shift caused by the combination of perturbations, $H'+H''$, in two different ways:\n",
    "\n",
    "(i)  Use as ''good'' states the states $|\\pm\\rangle$ (including their shifts!) from part (a), and add $H''$ as a perturbation. That is, calculate the first-order shifts due to $H''$ of the **nondegenerate** states $|\\pm\\rangle$. This shift will be linear in $\\mu$."
   ]
  },
  {
   "cell_type": "markdown",
   "metadata": {
    "collapsed": true
   },
   "source": [
    "This is pretty straightforward. We need to calculate\n",
    "\n",
    "$$\n",
    "\\langle \\psi_+ |\\mu x^2 |\\psi_+ \\rangle \\\\\n",
    "\\langle \\psi_- |\\mu x^2 |\\psi_- \\rangle\n",
    "$$\n",
    "\n",
    "Since $H''$ only depends on $x$, all our $y$ terms fall out and we're left with\n",
    "$$\n",
    "\\langle \\psi_+ |\\mu x^2 |\\psi_+ \\rangle = \\frac{\\mu\\hbar}{4m\\omega} \\int (\\psi_{0} + \\psi_{1})^{\\ast} (a_+^2 + a_-^2 + a_+a_- + a_-a_+)(\\psi_{0} + \\psi_{1}) \\\\\n",
    "\\langle \\psi_- |\\mu x^2 |\\psi_- \\rangle = \\frac{\\mu\\hbar}{4m\\omega} \\int (\\psi_{0} - \\psi_{1})^{\\ast} (a_+^2 + a_-^2 + a_+a_- + a_-a_+)(\\psi_{0} - \\psi_{1}) \\\\\n",
    "$$"
   ]
  },
  {
   "cell_type": "markdown",
   "metadata": {},
   "source": [
    "Right away, we can see that, because of the ladder operators, the only non-zero terms in our integral will be proportional to\n",
    "\n",
    "$$\n",
    "\\int \\psi_0^{\\ast}(a_-a_+)\\psi_0 = 1\\\\\n",
    "$$\n",
    "\n",
    "and\n",
    "\n",
    "$$\n",
    "\\int \\psi_1^{\\ast}(a_-a_+ + a_+a_-)\\psi_1 = 3 \\\\\n",
    "$$\n",
    "\n"
   ]
  },
  {
   "cell_type": "markdown",
   "metadata": {},
   "source": [
    "Hence we get\n",
    "\n",
    "$$\n",
    "\\langle \\psi_+ |\\mu x^2 |\\psi_+ \\rangle = \n",
    "\\langle \\psi_- |\\mu x^2 |\\psi_- \\rangle = \\frac{\\mu\\hbar}{m\\omega}\n",
    "$$"
   ]
  },
  {
   "cell_type": "markdown",
   "metadata": {},
   "source": [
    "(ii)  Take $H'+H''$ directly as the perturbation to the unperturbed harmonic oscillator, and calculate the first-order shift due to their combination. This shift will *not* be linear in $\\mu$, but when you Taylor expand your answer in $\\mu/\\lambda$  the linear term should coincide with your answer to (i). Verify this!"
   ]
  },
  {
   "cell_type": "markdown",
   "metadata": {
    "collapsed": true
   },
   "source": [
    "To solve for $H' + H'' = \\lambda xy + \\mu x^2$ we will use our degenerate eigenstates of $H^0$ and calculate the perturbation matrix $W$ similar to how we calculated 2.a. This time however, we can easily write down the matrix by using our previous answers and observing that\n",
    "\n",
    "$$\n",
    "\\langle H' + H'' \\rangle = \\langle H' \\rangle + \\langle H'' \\rangle\n",
    "$$\n",
    "\n",
    "For $W_{aa}$ and $W_{bb}$, $\\langle H' \\rangle = 0$ by part a. \n",
    "\n",
    "Meanwhile, $W_{ab}$ and $W_{ba}$ both have $\\langle H'' \\rangle = 0$ via part b.\n",
    "\n",
    "Putting our answers from each part together, we find that\n",
    "\n",
    "$$\n",
    "W =  \\frac{\\hbar}{2m\\omega} \\left( \\begin{array}{cc}\n",
    "2\\mu & \\lambda \\\\\n",
    "\\lambda & 3\\mu \\end{array} \\right)\n",
    "$$"
   ]
  },
  {
   "cell_type": "markdown",
   "metadata": {},
   "source": [
    "$$\n",
    "\\implies E^1_{\\pm} = \\frac{\\hbar}{4m\\omega}\\big[5\\mu \\pm \\sqrt{\\mu^2 + 4\\lambda^2}\\big]\n",
    "$$"
   ]
  },
  {
   "cell_type": "markdown",
   "metadata": {},
   "source": [
    "Next we expand $\\sqrt{\\mu^2 + 4\\lambda^2}$, with respect to $(\\mu/\\lambda)$\n",
    "\n",
    "$$\n",
    "\\implies \\lambda\\sqrt{(\\mu/\\lambda)^2 + 4} = \\lambda(2 + \\frac{\\mu^2}{\\lambda^2 2^2}) + O(\\mu^4/\\lambda^4)\n",
    "$$\n",
    "\n",
    "Hence we can simplify $E^1_{\\pm}$:\n",
    "\n",
    "$$\n",
    "E^1_{\\pm} = \\frac{\\hbar}{4m\\omega}\\big[5\\mu \\pm 2\\lambda \\big]\n",
    "$$"
   ]
  }
 ],
 "metadata": {
  "kernelspec": {
   "display_name": "Python 3",
   "language": "python",
   "name": "python3"
  },
  "language_info": {
   "codemirror_mode": {
    "name": "ipython",
    "version": 3
   },
   "file_extension": ".py",
   "mimetype": "text/x-python",
   "name": "python",
   "nbconvert_exporter": "python",
   "pygments_lexer": "ipython3",
   "version": "3.3.1"
  }
 },
 "nbformat": 4,
 "nbformat_minor": 0
}
